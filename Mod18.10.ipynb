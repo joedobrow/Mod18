{
 "cells": [
  {
   "cell_type": "code",
   "execution_count": 91,
   "metadata": {},
   "outputs": [],
   "source": [
    "%matplotlib inline\n",
    "import numpy as np\n",
    "import pandas as pd\n",
    "import scipy\n",
    "import seaborn as sns\n",
    "import sklearn\n",
    "import random\n",
    "from sklearn.naive_bayes import BernoulliNB\n",
    "from sklearn.model_selection import train_test_split"
   ]
  },
  {
   "cell_type": "code",
   "execution_count": 92,
   "metadata": {},
   "outputs": [],
   "source": [
    "df1 = pd.read_csv('/Users/jdobrow/Desktop/Programming Files/sentiment labelled sentences/imdb_labelled.txt', error_bad_lines=False, sep='\\t', header=None)\n",
    "df2 = pd.read_csv('/Users/jdobrow/Desktop/Programming Files/sentiment labelled sentences/yelp_labelled.txt', error_bad_lines=False, sep='\\t', header=None)\n",
    "df3 = pd.read_csv('/Users/jdobrow/Desktop/Programming Files/sentiment labelled sentences/amazon_cells_labelled.txt', error_bad_lines=False, sep='\\t', header=None)\n",
    "df1.columns = ['Review', 'Sentiment']\n",
    "df2.columns = ['Review', 'Sentiment']\n",
    "df3.columns = ['Review', 'Sentiment']\n",
    "df = pd.concat([df1,df2,df3])\n",
    "df.reset_index(inplace=True, drop=True)"
   ]
  },
  {
   "cell_type": "code",
   "execution_count": 106,
   "metadata": {},
   "outputs": [
    {
     "name": "stdout",
     "output_type": "stream",
     "text": [
      "Number of mislabeled points out of a total 825 points : 310\n",
      "Accuracy of Model on test data: %62.42424242424242\n",
      "Accuracy of Model on all data: %61.098981077147016\n"
     ]
    }
   ],
   "source": [
    "# First try:\n",
    "classifier1 = df.copy()\n",
    "keywords = ['bad', 'good', 'wasted', 'sorry', 'excellent', 'great', 'love', 'sick', '10', 'suck', 'better', 'worse', 'bargain', 'extraordinary', 'fantastic', 'disapointing', 'uncomfortable']\n",
    "\n",
    "for word in keywords:\n",
    "    classifier1[word] = classifier1.Review.str.contains(str(word))\n",
    "    \n",
    "data = classifier1.iloc[:,2:]\n",
    "target = df['Sentiment']\n",
    "\n",
    "X_train, X_test, y_train, y_test = train_test_split(data, target, test_size=0.3, random_state=13)\n",
    "\n",
    "bnb1 = BernoulliNB()\n",
    "bnb1.fit(X_train, y_train)\n",
    "y_pred = bnb1.predict(X_test)\n",
    "print(\"Number of mislabeled points out of a total {} points : {}\".format(\n",
    "    y_test.shape[0],\n",
    "    (y_test != y_pred).sum()\n",
    "))\n",
    "print('Accuracy of Model on test data: %' + str(100 * (y_test.shape[0] - (y_test != y_pred).sum())/y_test.shape[0]))\n",
    "\n",
    "bnb1all = BernoulliNB()\n",
    "bnb1all.fit(data, target)\n",
    "y_pred = bnb1all.predict(data)\n",
    "print('Accuracy of Model on all data: %' + str(100 * (data.shape[0] - (target != y_pred).sum())/data.shape[0]))"
   ]
  },
  {
   "cell_type": "code",
   "execution_count": 80,
   "metadata": {},
   "outputs": [],
   "source": [
    "# Second try: The letter attempt.\n",
    "classifier2 = df.copy()\n",
    "\n",
    "review_length = []\n",
    "acounts, bcounts, ccounts, dcounts, ecounts, fcounts, gcounts, hcounts, icounts, jcounts, kcounts, lcounts, mcounts, ncounts, ocounts, pcounts, qcounts, rcounts, scounts, tcounts, ucounts, vcounts, wcounts, xcounts, ycounts, zcounts, othercounts = [],[],[],[],[],[],[],[],[],[],[],[],[],[],[],[],[],[],[],[],[],[],[],[],[],[],[],\n",
    "\n",
    "for i in classifier2.Review:\n",
    "    review_length.append(len(i))\n",
    "    acount, bcount, ccount, dcount, ecount, fcount, gcount, hcount, icount, jcount, kcount, lcount, mcount, ncount, ocount, pcount, qcount, rcount, scount, tcount, ucount, vcount, wcount, xcount, ycount, zcount, othercount = 0,0,0,0,0,0,0,0,0,0,0,0,0,0,0,0,0,0,0,0,0,0,0,0,0,0,0,\n",
    "    for j in i:\n",
    "        if j=='a':\n",
    "            acount += 1\n",
    "        elif j =='b':\n",
    "            bcount +=1\n",
    "        elif j =='c':\n",
    "            ccount +=1\n",
    "        elif j =='d':\n",
    "            dcount +=1\n",
    "        elif j =='e':\n",
    "            ecount +=1\n",
    "        elif j =='f':\n",
    "            fcount +=1\n",
    "        elif j =='g':\n",
    "            gcount +=1\n",
    "        elif j =='h':\n",
    "            hcount +=1\n",
    "        elif j =='i':\n",
    "            icount +=1\n",
    "        elif j =='j':\n",
    "            jcount +=1\n",
    "        elif j =='k':\n",
    "            kcount +=1\n",
    "        elif j =='l':\n",
    "            lcount +=1\n",
    "        elif j =='m':\n",
    "            mcount +=1\n",
    "        elif j =='n':\n",
    "            ncount +=1\n",
    "        elif j =='o':\n",
    "            ocount +=1\n",
    "        elif j =='p':\n",
    "            pcount +=1\n",
    "        elif j =='q':\n",
    "            qcount +=1\n",
    "        elif j =='r':\n",
    "            rcount +=1\n",
    "        elif j =='s':\n",
    "            scount +=1\n",
    "        elif j =='t':\n",
    "            tcount +=1\n",
    "        elif j =='u':\n",
    "            ucount +=1\n",
    "        elif j =='v':\n",
    "            vcount +=1\n",
    "        elif j =='w':\n",
    "            wcount +=1\n",
    "        elif j =='x':\n",
    "            xcount +=1\n",
    "        elif j =='y':\n",
    "            ycount +=1\n",
    "        elif j =='z':\n",
    "            zcount +=1\n",
    "        else:\n",
    "            othercount +=1\n",
    "    acounts.append(acount/len(i))\n",
    "    bcounts.append(bcount/len(i))\n",
    "    ccounts.append(ccount/len(i))\n",
    "    dcounts.append(dcount/len(i))\n",
    "    ecounts.append(ecount/len(i))\n",
    "    fcounts.append(fcount/len(i))\n",
    "    gcounts.append(gcount/len(i))\n",
    "    hcounts.append(hcount/len(i))\n",
    "    icounts.append(icount/len(i))\n",
    "    jcounts.append(jcount/len(i))\n",
    "    kcounts.append(kcount/len(i))\n",
    "    lcounts.append(lcount/len(i))\n",
    "    mcounts.append(mcount/len(i))\n",
    "    ncounts.append(ncount/len(i))\n",
    "    ocounts.append(ocount/len(i))\n",
    "    pcounts.append(pcount/len(i))\n",
    "    qcounts.append(qcount/len(i))\n",
    "    rcounts.append(rcount/len(i))\n",
    "    scounts.append(scount/len(i))\n",
    "    tcounts.append(tcount/len(i))\n",
    "    ucounts.append(ucount/len(i))\n",
    "    vcounts.append(vcount/len(i))\n",
    "    wcounts.append(wcount/len(i))\n",
    "    xcounts.append(xcount/len(i))\n",
    "    ycounts.append(ycount/len(i))\n",
    "    zcounts.append(zcount/len(i))\n",
    "    othercounts.append(othercount/len(i))\n",
    "classifier2['a'] = acounts\n",
    "classifier2['b'] = bcounts\n",
    "classifier2['c'] = ccounts\n",
    "classifier2['d'] = dcounts\n",
    "classifier2['e'] = ecounts\n",
    "classifier2['f'] = fcounts\n",
    "classifier2['g'] = gcounts\n",
    "classifier2['h'] = hcounts\n",
    "classifier2['i'] = icounts\n",
    "classifier2['j'] = jcounts\n",
    "classifier2['k'] = kcounts\n",
    "classifier2['l'] = lcounts\n",
    "classifier2['m'] = mcounts\n",
    "classifier2['n'] = ncounts\n",
    "classifier2['o'] = ocounts\n",
    "classifier2['p'] = pcounts\n",
    "classifier2['q'] = qcounts\n",
    "classifier2['r'] = rcounts\n",
    "classifier2['s'] = scounts\n",
    "classifier2['t'] = tcounts\n",
    "classifier2['u'] = ucounts\n",
    "classifier2['v'] = vcounts\n",
    "classifier2['w'] = wcounts\n",
    "classifier2['x'] = xcounts\n",
    "classifier2['y'] = ycounts\n",
    "classifier2['z'] = zcounts\n",
    "classifier2['other'] = othercounts\n"
   ]
  },
  {
   "cell_type": "code",
   "execution_count": 107,
   "metadata": {},
   "outputs": [
    {
     "name": "stdout",
     "output_type": "stream",
     "text": [
      "Number of mislabeled points out of a total 825 points : 369\n",
      "Accuracy of Model on test data: %55.27272727272727\n",
      "Accuracy of Model on all data: %58.73362445414847\n"
     ]
    }
   ],
   "source": [
    "data = classifier2.iloc[:,2:]\n",
    "target = df['Sentiment']\n",
    "\n",
    "X_train, X_test, y_train, y_test = train_test_split(data, target, test_size=0.3, random_state=13)\n",
    "\n",
    "bnb2 = BernoulliNB()\n",
    "bnb2.fit(X_train, y_train)\n",
    "y_pred = bnb2.predict(X_test)\n",
    "print(\"Number of mislabeled points out of a total {} points : {}\".format(\n",
    "    X_test.shape[0],\n",
    "    (y_test != y_pred).sum()\n",
    "))\n",
    "print('Accuracy of Model on test data: %' + str(100 * (y_test.shape[0] - (y_test != y_pred).sum())/y_test.shape[0]))\n",
    "\n",
    "bnb2all = BernoulliNB()\n",
    "bnb2all.fit(data, target)\n",
    "y_pred = bnb2all.predict(data)\n",
    "print('Accuracy of Model on all data: %' + str(100 * (data.shape[0] - (target != y_pred).sum())/data.shape[0]))"
   ]
  },
  {
   "cell_type": "code",
   "execution_count": 82,
   "metadata": {},
   "outputs": [
    {
     "data": {
      "text/plain": [
       "<matplotlib.axes._subplots.AxesSubplot at 0x1a20631a20>"
      ]
     },
     "execution_count": 82,
     "metadata": {},
     "output_type": "execute_result"
    },
    {
     "data": {
      "image/png": "[encoded data removed]",
      "text/plain": [
       "<Figure size 864x864 with 2 Axes>"
      ]
     },
     "metadata": {
      "needs_background": "light"
     },
     "output_type": "display_data"
    }
   ],
   "source": [
    "plt.figure(figsize=(12,12))\n",
    "sns.heatmap(classifier2.corr())"
   ]
  },
  {
   "cell_type": "code",
   "execution_count": 84,
   "metadata": {},
   "outputs": [],
   "source": [
    "# 3rd try: The'demographic' approach\n",
    "df1 = pd.read_csv('/Users/jdobrow/Desktop/Programming Files/sentiment labelled sentences/imdb_labelled.txt', error_bad_lines=False, sep='\\t', header=None)\n",
    "df2 = pd.read_csv('/Users/jdobrow/Desktop/Programming Files/sentiment labelled sentences/yelp_labelled.txt', error_bad_lines=False, sep='\\t', header=None)\n",
    "df3 = pd.read_csv('/Users/jdobrow/Desktop/Programming Files/sentiment labelled sentences/amazon_cells_labelled.txt', error_bad_lines=False, sep='\\t', header=None)\n",
    "df1_list = []\n",
    "df2_list = []\n",
    "df3_list = []\n",
    "for i in range(len(df1)):\n",
    "    df1_list.append(1)\n",
    "for i in range(len(df2)):\n",
    "    df2_list.append(2)\n",
    "for i in range(len(df3)):\n",
    "    df3_list.append(3)\n",
    "df1['_'] = df1_list\n",
    "df2['_'] = df2_list\n",
    "df3['_'] = df3_list\n",
    "df1.columns = ['Review', 'Sentiment', 'Dataset']\n",
    "df2.columns = ['Review', 'Sentiment', 'Dataset']\n",
    "df3.columns = ['Review', 'Sentiment', 'Dataset']\n",
    "df = pd.concat([df1,df2,df3])\n",
    "df.reset_index(inplace=True, drop=True)\n",
    "\n",
    "classifier3 = df.copy()\n",
    "\n",
    "percent_uppers = []\n",
    "length = []\n",
    "percent_numbers = []\n",
    "avg_word_len = []\n",
    "percent_punctuation = []\n",
    "\n",
    "for i in classifier3.Review:\n",
    "    count = 0\n",
    "    numcount = 0\n",
    "    alnumcount = 0\n",
    "    for j in i:\n",
    "        if j.isupper():\n",
    "            count += 1\n",
    "        if j.isdigit():\n",
    "            numcount += 1\n",
    "        if not j.isalnum():\n",
    "            alnumcount += 1\n",
    "\n",
    "    percent_uppers.append(count/len(i))\n",
    "    length.append(len(i))\n",
    "    percent_numbers.append(numcount/len(i))\n",
    "    percent_punctuation.append(alnumcount/len(i))\n",
    "    \n",
    "    review_words = i.split()\n",
    "    avg_word_len.append(len(review_words)/len(i))\n",
    "    \n",
    "classifier3['PercentUppers'] = percent_uppers\n",
    "classifier3['Length'] = length\n",
    "classifier3['PercentNumbers'] = percent_numbers\n",
    "classifier3['PercentPunctuation'] = percent_punctuation\n",
    "classifier3['AverageWordLen'] = avg_word_len\n",
    "\n",
    "\n"
   ]
  },
  {
   "cell_type": "code",
   "execution_count": 85,
   "metadata": {},
   "outputs": [
    {
     "data": {
      "text/plain": [
       "<matplotlib.axes._subplots.AxesSubplot at 0x1a1d4eeac8>"
      ]
     },
     "execution_count": 85,
     "metadata": {},
     "output_type": "execute_result"
    },
    {
     "data": {
      "image/png": "[encoded data removed]",
      "text/plain": [
       "<Figure size 432x288 with 2 Axes>"
      ]
     },
     "metadata": {
      "needs_background": "light"
     },
     "output_type": "display_data"
    }
   ],
   "source": [
    "sns.heatmap(classifier3.corr(), annot=True)"
   ]
  },
  {
   "cell_type": "code",
   "execution_count": 109,
   "metadata": {},
   "outputs": [
    {
     "name": "stdout",
     "output_type": "stream",
     "text": [
      "Number of mislabeled points out of a total 825 points : 393\n",
      "Accuracy of Model on test data: %52.36363636363637\n",
      "Accuracy of Model on all data: %52.14701601164483\n"
     ]
    }
   ],
   "source": [
    "data = classifier3.iloc[:,2:]\n",
    "target = df['Sentiment']\n",
    "\n",
    "X_train, X_test, y_train, y_test = train_test_split(data, target, test_size=0.3, random_state=13)\n",
    "\n",
    "bnb3 = BernoulliNB()\n",
    "bnb3.fit(X_train, y_train)\n",
    "y_pred = bnb3.predict(X_test)\n",
    "print(\"Number of mislabeled points out of a total {} points : {}\".format(\n",
    "    X_test.shape[0],\n",
    "    (y_test != y_pred).sum()\n",
    "))\n",
    "\n",
    "print('Accuracy of Model on test data: %' + str(100 * (y_test.shape[0] - (y_test != y_pred).sum())/y_test.shape[0]))\n",
    "\n",
    "bnb3all = BernoulliNB()\n",
    "bnb3all.fit(data, target)\n",
    "y_pred = bnb3all.predict(data)\n",
    "print('Accuracy of Model on all data: %' + str(100 * (data.shape[0] - (target != y_pred).sum())/data.shape[0]))"
   ]
  },
  {
   "cell_type": "code",
   "execution_count": 87,
   "metadata": {},
   "outputs": [],
   "source": [
    "def letters(inp):\n",
    "    valids = []\n",
    "    for character in inp:\n",
    "        if character.isalpha():\n",
    "            valids.append(character)\n",
    "    return ''.join(valids)"
   ]
  },
  {
   "cell_type": "code",
   "execution_count": 88,
   "metadata": {},
   "outputs": [],
   "source": [
    "# 4th try: stripping word features from the data, but not too many...\n",
    "classifier4 = df.copy()\n",
    "keywords = []\n",
    "\n",
    "for i in range(len(classifier4)//10):\n",
    "    words = classifier4.iloc[i,0].split()\n",
    "    for word in words:\n",
    "        word = letters(word)\n",
    "        if word not in keywords:\n",
    "            keywords.append(word)\n",
    "for word in keywords:\n",
    "    classifier4[word] = classifier4.Review.str.contains(str(word), case=False)"
   ]
  },
  {
   "cell_type": "code",
   "execution_count": 110,
   "metadata": {},
   "outputs": [
    {
     "name": "stdout",
     "output_type": "stream",
     "text": [
      "Number of mislabeled points out of a total 825 points : 221\n",
      "Accuracy of Model on test data: %73.21212121212122\n",
      "Accuracy of Model on all data: %81.47743813682678\n"
     ]
    }
   ],
   "source": [
    "data = classifier4.iloc[:,2:]\n",
    "target = classifier4['Sentiment']\n",
    "\n",
    "X_train, X_test, y_train, y_test = train_test_split(data, target, test_size=0.3, random_state=13)\n",
    "\n",
    "bnb4 = BernoulliNB()\n",
    "bnb4.fit(X_train, y_train)\n",
    "y_pred = bnb4.predict(X_test)\n",
    "print(\"Number of mislabeled points out of a total {} points : {}\".format(\n",
    "    X_test.shape[0],\n",
    "    (y_test != y_pred).sum()\n",
    "))\n",
    "\n",
    "print('Accuracy of Model on test data: %' + str(100 * (y_test.shape[0] - (y_test != y_pred).sum())/y_test.shape[0]))\n",
    "\n",
    "bnb4all = BernoulliNB()\n",
    "bnb4all.fit(data, target)\n",
    "y_pred = bnb4all.predict(data)\n",
    "print('Accuracy of Model on all data: %' + str(100 * (data.shape[0] - (target != y_pred).sum())/data.shape[0]))"
   ]
  },
  {
   "cell_type": "code",
   "execution_count": 111,
   "metadata": {},
   "outputs": [
    {
     "name": "stdout",
     "output_type": "stream",
     "text": [
      "Number of mislabeled points out of a total 825 points : 189\n",
      "Accuracy of Model on test data: %77.0909090909091\n",
      "Accuracy of Model on all data: %89.44687045123726\n"
     ]
    }
   ],
   "source": [
    "# 5th try: Screw it lets use all the words!\n",
    "classifier5 = df.copy()\n",
    "keywords = []\n",
    "\n",
    "for i in range(len(classifier5)):\n",
    "    words = classifier5.iloc[i,0].split()\n",
    "    for word in words:\n",
    "        word = letters(word)\n",
    "        if word not in keywords:\n",
    "            keywords.append(word)\n",
    "for word in keywords:\n",
    "    classifier5[word] = classifier5.Review.str.contains(str(word), case=False)\n",
    "    \n",
    "data = classifier5.iloc[:,2:]\n",
    "target = classifier5['Sentiment']\n",
    "\n",
    "X_train, X_test, y_train, y_test = train_test_split(data, target, test_size=0.3, random_state=13)\n",
    "\n",
    "bnb5 = BernoulliNB()\n",
    "bnb5.fit(X_train, y_train)\n",
    "y_pred = bnb5.predict(X_test)\n",
    "print(\"Number of mislabeled points out of a total {} points : {}\".format(\n",
    "    X_test.shape[0],\n",
    "    (y_test != y_pred).sum()\n",
    "))\n",
    "\n",
    "print('Accuracy of Model on test data: %' + str(100 * (y_test.shape[0] - (y_test != y_pred).sum())/y_test.shape[0]))\n",
    "\n",
    "bnb5all = BernoulliNB()\n",
    "bnb5all.fit(data, target)\n",
    "y_pred = bnb5all.predict(data)\n",
    "print('Accuracy of Model on all data: %' + str(100 * (data.shape[0] - (target != y_pred).sum())/data.shape[0]))"
   ]
  },
  {
   "cell_type": "markdown",
   "metadata": {},
   "source": [
    "1. Do any of your models seem to overfit?\n",
    "Yes. Models 1 and 3 don't overfit much at all, and I noticed that those 2 have the fewest features. The letter counting model has 27 features and overfit a little bit, and then my last two models overfit pretty dramatically. The last model had an over 12% difference in accuracy on the test data as it did on the whole data set. I'm wondering if it's a better or worse model than #4 since it performs better on test data but also has more over-fitting.\n",
    "2. Which seem to perform the best? Why? I think my last 2 models are clearly the best. My first model just doesn't have enough features to perform well, and my second 2 models are using features that are not actually correlated with sentiment. I was just digging for features and failed.\n",
    "3. As far as I can find, specific words being in the message are the strongest features. If i were to explore this further I would try to use features of combinations of words. For example 'not good' would be 1 feature, and would help identify negative sentiment. Right now it's probably actually indicating positive sentiments incorrectly since it's 2 features, one of which is 'good.'"
   ]
  }
 ],
 "metadata": {
  "kernelspec": {
   "display_name": "Python 3",
   "language": "python",
   "name": "python3"
  },
  "language_info": {
   "codemirror_mode": {
    "name": "ipython",
    "version": 3
   },
   "file_extension": ".py",
   "mimetype": "text/x-python",
   "name": "python",
   "nbconvert_exporter": "python",
   "pygments_lexer": "ipython3",
   "version": "3.7.3"
  }
 },
 "nbformat": 4,
 "nbformat_minor": 2
}
