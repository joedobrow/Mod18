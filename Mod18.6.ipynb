{
 "cells": [
  {
   "cell_type": "code",
   "execution_count": 606,
   "metadata": {},
   "outputs": [],
   "source": [
    "%matplotlib inline\n",
    "import numpy as np\n",
    "import pandas as pd\n",
    "import scipy\n",
    "import sklearn\n",
    "import matplotlib.pyplot as plt\n",
    "import seaborn as sns"
   ]
  },
  {
   "cell_type": "code",
   "execution_count": 607,
   "metadata": {},
   "outputs": [],
   "source": [
    "df1 = pd.read_csv('/Users/jdobrow/Desktop/Programming Files/sentiment labelled sentences/imdb_labelled.txt', error_bad_lines=False, sep='\\t', header=None)\n",
    "df2 = pd.read_csv('/Users/jdobrow/Desktop/Programming Files/sentiment labelled sentences/yelp_labelled.txt', error_bad_lines=False, sep='\\t', header=None)\n",
    "df3 = pd.read_csv('/Users/jdobrow/Desktop/Programming Files/sentiment labelled sentences/amazon_cells_labelled.txt', error_bad_lines=False, sep='\\t', header=None)\n",
    "df1.columns = ['Review', 'Sentiment']\n",
    "df2.columns = ['Review', 'Sentiment']\n",
    "df3.columns = ['Review', 'Sentiment']\n",
    "\n",
    "df = pd.concat([df1,df2,df3])\n",
    "df.reset_index(inplace=True, drop=True)\n",
    "keywords = []"
   ]
  },
  {
   "cell_type": "code",
   "execution_count": 608,
   "metadata": {},
   "outputs": [],
   "source": [
    "def letters(inp):\n",
    "    valids = []\n",
    "    for character in inp:\n",
    "        if character.isalpha():\n",
    "            valids.append(character)\n",
    "    return ''.join(valids)"
   ]
  },
  {
   "cell_type": "code",
   "execution_count": 609,
   "metadata": {},
   "outputs": [],
   "source": [
    "for i in range(len(df)):\n",
    "    words = df.iloc[i,0].split()\n",
    "    for word in words:\n",
    "        word = letters(word)\n",
    "        if word not in keywords:\n",
    "            keywords.append(word)\n",
    "for word in keywords:\n",
    "    df[word] = df.Review.str.contains(str(word), case=False)"
   ]
  },
  {
   "cell_type": "code",
   "execution_count": 610,
   "metadata": {},
   "outputs": [],
   "source": [
    "data = df.iloc[:,2:]\n",
    "target = df['Sentiment']"
   ]
  },
  {
   "cell_type": "code",
   "execution_count": 611,
   "metadata": {},
   "outputs": [
    {
     "name": "stdout",
     "output_type": "stream",
     "text": [
      "Number of mislabeled points out of a total 2748 points : 290\n"
     ]
    }
   ],
   "source": [
    "from sklearn.naive_bayes import BernoulliNB\n",
    "bnb = BernoulliNB()\n",
    "bnb.fit(data, target)\n",
    "y_pred = bnb.predict(data)\n",
    "print(\"Number of mislabeled points out of a total {} points : {}\".format(\n",
    "    data.shape[0],\n",
    "    (target != y_pred).sum()\n",
    "))"
   ]
  },
  {
   "cell_type": "code",
   "execution_count": null,
   "metadata": {},
   "outputs": [],
   "source": []
  }
 ],
 "metadata": {
  "kernelspec": {
   "display_name": "Python 3",
   "language": "python",
   "name": "python3"
  },
  "language_info": {
   "codemirror_mode": {
    "name": "ipython",
    "version": 3
   },
   "file_extension": ".py",
   "mimetype": "text/x-python",
   "name": "python",
   "nbconvert_exporter": "python",
   "pygments_lexer": "ipython3",
   "version": "3.7.3"
  }
 },
 "nbformat": 4,
 "nbformat_minor": 2
}
